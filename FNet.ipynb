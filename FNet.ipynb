{
 "cells": [
  {
   "cell_type": "code",
   "execution_count": 1,
   "metadata": {},
   "outputs": [],
   "source": [
    "import torch\n",
    "from torch import nn\n",
    "import matplotlib.pyplot as plt\n",
    "import numpy as np"
   ]
  },
  {
   "cell_type": "markdown",
   "metadata": {},
   "source": [
    "torch.fft.fftn(input, s=None, dim=None, norm=None, *, out=None) → Tensor"
   ]
  },
  {
   "cell_type": "code",
   "execution_count": 3,
   "metadata": {},
   "outputs": [],
   "source": [
    "class ResidualFourierTransformLayer(nn.Module):\n",
    "    def __init__(self):\n",
    "        super().__init__()\n",
    "        \n",
    "    def forward(self, x):\n",
    "        return torch.real(torch.fft.fft2(x)) + x"
   ]
  },
  {
   "cell_type": "code",
   "execution_count": 4,
   "metadata": {},
   "outputs": [
    {
     "name": "stdout",
     "output_type": "stream",
     "text": [
      "ResidualFourierTransformLayer()\n"
     ]
    }
   ],
   "source": [
    "model = ResidualFourierTransformLayer()\n",
    "print(model)"
   ]
  },
  {
   "cell_type": "markdown",
   "metadata": {},
   "source": [
    "100 trames par seconde (25 ms par trame et 10 ms d'overlap)"
   ]
  },
  {
   "cell_type": "code",
   "execution_count": 5,
   "metadata": {},
   "outputs": [],
   "source": [
    "input_dim = 39\n",
    "batch_size = 16\n",
    "seq_length = 1000\n",
    "x = torch.rand(batch_size, seq_length, input_dim)"
   ]
  },
  {
   "cell_type": "code",
   "execution_count": 6,
   "metadata": {},
   "outputs": [],
   "source": [
    "z = model(x)"
   ]
  },
  {
   "cell_type": "code",
   "execution_count": 7,
   "metadata": {},
   "outputs": [
    {
     "name": "stdout",
     "output_type": "stream",
     "text": [
      "torch.Size([16, 1000, 39])\n",
      "torch.Size([16, 1000, 39])\n"
     ]
    }
   ],
   "source": [
    "print(z.shape)\n",
    "print(x.shape)"
   ]
  },
  {
   "cell_type": "code",
   "execution_count": 8,
   "metadata": {},
   "outputs": [],
   "source": [
    "class ResidualFeedForwardLayer(nn.Module):\n",
    "    def __init__(self, input_dim, hidden_dim, dropout_rate, activation):\n",
    "        super().__init__()\n",
    "        self.layers = nn.Sequential(\n",
    "            nn.Linear(input_dim, hidden_dim),\n",
    "            activation, #nn.GELU(),\n",
    "            nn.Linear(hidden_dim, input_dim),\n",
    "            nn.Dropout(dropout_rate)\n",
    "        )\n",
    "        \n",
    "    def forward(self, x):\n",
    "        return self.layers(x) + x"
   ]
  },
  {
   "cell_type": "code",
   "execution_count": 9,
   "metadata": {},
   "outputs": [],
   "source": [
    "hidden_dim = 3072\n",
    "dropout_rate = 0.1\n",
    "ff_model = ResidualFeedForwardLayer(input_dim, hidden_dim, dropout_rate)"
   ]
  },
  {
   "cell_type": "code",
   "execution_count": 10,
   "metadata": {},
   "outputs": [
    {
     "name": "stdout",
     "output_type": "stream",
     "text": [
      "39\n"
     ]
    }
   ],
   "source": [
    "print(input_dim)"
   ]
  },
  {
   "cell_type": "code",
   "execution_count": 11,
   "metadata": {},
   "outputs": [],
   "source": [
    "out = ff_model(z)"
   ]
  },
  {
   "cell_type": "code",
   "execution_count": 12,
   "metadata": {},
   "outputs": [
    {
     "data": {
      "text/plain": [
       "torch.Size([16, 1000, 39])"
      ]
     },
     "execution_count": 12,
     "metadata": {},
     "output_type": "execute_result"
    }
   ],
   "source": [
    "out.shape"
   ]
  },
  {
   "cell_type": "code",
   "execution_count": 23,
   "metadata": {},
   "outputs": [],
   "source": [
    "class FNetEncoderBlock(nn.Module):\n",
    "    def __init__(self, input_dim, hidden_dim, dropout_rate, activation):\n",
    "        super().__init__()\n",
    "        self.layers = nn.Sequential(\n",
    "            ResidualFourierTransformLayer(),\n",
    "            nn.LayerNorm(input_dim), #eps=1e-12 initially\n",
    "            ResidualFeedForwardLayer(input_dim, hidden_dim, dropout_rate, activation),\n",
    "            nn.LayerNorm(input_dim) #eps=1e-12\n",
    "        )\n",
    "        \n",
    "    def forward(self, x):\n",
    "        return self.layers(x)"
   ]
  },
  {
   "cell_type": "code",
   "execution_count": null,
   "metadata": {},
   "outputs": [],
   "source": [
    "activation = nn.GELU()"
   ]
  },
  {
   "cell_type": "code",
   "execution_count": 24,
   "metadata": {},
   "outputs": [],
   "source": [
    "block = FNetEncoderBlock(input_dim, hidden_dim, dropout_rate, activation)"
   ]
  },
  {
   "cell_type": "code",
   "execution_count": 26,
   "metadata": {},
   "outputs": [
    {
     "name": "stdout",
     "output_type": "stream",
     "text": [
      "torch.Size([16, 1000, 39])\n"
     ]
    }
   ],
   "source": [
    "out_block = block(x)\n",
    "print(out_block.shape)"
   ]
  },
  {
   "cell_type": "code",
   "execution_count": 36,
   "metadata": {},
   "outputs": [],
   "source": [
    "class FNetEncoder(nn.Module):\n",
    "    def __init__(self, n_encoders, input_dim, hidden_dim, dropout_rate, output_dim, activation=nn.GELU):\n",
    "        super().__init__()\n",
    "        self.layers = nn.ModuleList([FNetEncoderBlock(input_dim, hidden_dim, dropout_rate, activation()) for i in range(n_encoders)])\n",
    "        self.layers.append(nn.Linear(input_dim, output_dim)) #init ?\n",
    "        # self.layers.append(nn.Tanh()) as added in the paper\n",
    "        \n",
    "        \n",
    "    def forward(self, x):\n",
    "        for layer in (self.layers):\n",
    "            x = layer(x)\n",
    "        return x"
   ]
  },
  {
   "cell_type": "code",
   "execution_count": 2,
   "metadata": {},
   "outputs": [],
   "source": [
    "f = lambda : nn.ELU(alpha=0.5)"
   ]
  },
  {
   "cell_type": "code",
   "execution_count": 3,
   "metadata": {},
   "outputs": [
    {
     "data": {
      "text/plain": [
       "ELU(alpha=0.5)"
      ]
     },
     "execution_count": 3,
     "metadata": {},
     "output_type": "execute_result"
    }
   ],
   "source": [
    "f()"
   ]
  },
  {
   "cell_type": "code",
   "execution_count": 44,
   "metadata": {},
   "outputs": [
    {
     "name": "stdout",
     "output_type": "stream",
     "text": [
      "torch.Size([16, 1000, 48])\n"
     ]
    }
   ],
   "source": [
    "N = 6\n",
    "activation = f\n",
    "output_dim = 48\n",
    "fnet_encoder = FNetEncoder(N, input_dim, hidden_dim, dropout_rate, output_dim, activation)\n",
    "out_encoder = fnet_encoder(x)\n",
    "print(out_encoder.shape)"
   ]
  }
 ],
 "metadata": {
  "kernelspec": {
   "display_name": "Python 3",
   "language": "python",
   "name": "python3"
  },
  "language_info": {
   "codemirror_mode": {
    "name": "ipython",
    "version": 3
   },
   "file_extension": ".py",
   "mimetype": "text/x-python",
   "name": "python",
   "nbconvert_exporter": "python",
   "pygments_lexer": "ipython3",
   "version": "3.8.12"
  }
 },
 "nbformat": 4,
 "nbformat_minor": 4
}
